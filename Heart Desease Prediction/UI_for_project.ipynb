{
 "cells": [
  {
   "cell_type": "code",
   "execution_count": 10,
   "id": "0a58b741",
   "metadata": {},
   "outputs": [],
   "source": [
    "import streamlit as st\n",
    "import joblib"
   ]
  },
  {
   "cell_type": "code",
   "execution_count": 11,
   "id": "2393ad7e",
   "metadata": {},
   "outputs": [],
   "source": [
    "def main():\n",
    "    html_temp=\"\"\"\n",
    "    <div style=\"background-color:lightblue;padding:16px\">\n",
    "    <h2 style=\"color:black\";text-align:center\">Heart Disease Prediction</h2>\n",
    "    </div>\"\"\"\n",
    "    \n",
    "    st.markdown(html_temp,unsafe_allow_html=True)\n",
    "    model = joblib.load('model_joblib_heart')\n",
    "    p1 = st.slider(\"Enter Your Age\",18,100)\n",
    "    s1=st.selectbox(\"Sex\",(\"Male\",\"Female\"))\n",
    "    if s1==\"Male\":\n",
    "        p2=1\n",
    "    else:\n",
    "        p2=0\n",
    "    p3 =st.number_input(\"Enter Value of CP\")\n",
    "    p4 =st.number_input(\"Enter Value of trestbps\")\n",
    "    p5 =st.number_input(\"Enter Value of chol\")\n",
    "    p6 =st.number_input(\"Enter Value of fbs\")\n",
    "    p7 =st.number_input(\"Enter Value of restecg\")\n",
    "    p8 =st.number_input(\"Enter Value of thalach\")\n",
    "    p9 =st.number_input(\"Enter Value of exang\")\n",
    "    p10 =st.number_input(\"Enter Value of oldpeak\")\n",
    "    p11 =st.number_input(\"Enter Value of slope\")\n",
    "    p12 =st.number_input(\"Enter Value of ca\")\n",
    "    p13=st.number_input(\"Enter Value of thal\")\n",
    "    \n",
    "    if st.button('Predict'):\n",
    "        prediction = model.predict([[p1,p2,p3,p4,p5,p6,p7,p8,p9,p10,p11,p12,p13]])\n",
    "        if prediction == 0:\n",
    "            st.success('No Heart Disease')\n",
    "        else:\n",
    "            st.success('Possiblity of Heart Disease')\n",
    "\n",
    "#if __name__ =='_main_':\n",
    "main()\n",
    "    \n",
    "        "
   ]
  },
  {
   "cell_type": "code",
   "execution_count": null,
   "id": "e3763809",
   "metadata": {},
   "outputs": [],
   "source": []
  }
 ],
 "metadata": {
  "kernelspec": {
   "display_name": "Python 3 (ipykernel)",
   "language": "python",
   "name": "python3"
  },
  "language_info": {
   "codemirror_mode": {
    "name": "ipython",
    "version": 3
   },
   "file_extension": ".py",
   "mimetype": "text/x-python",
   "name": "python",
   "nbconvert_exporter": "python",
   "pygments_lexer": "ipython3",
   "version": "3.9.12"
  }
 },
 "nbformat": 4,
 "nbformat_minor": 5
}
